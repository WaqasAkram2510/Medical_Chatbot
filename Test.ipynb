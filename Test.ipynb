{
 "cells": [
  {
   "cell_type": "code",
   "execution_count": 1,
   "id": "530377f5",
   "metadata": {},
   "outputs": [
    {
     "name": "stdout",
     "output_type": "stream",
     "text": [
      "test\n"
     ]
    }
   ],
   "source": [
    "print('test')"
   ]
  },
  {
   "cell_type": "code",
   "execution_count": 1,
   "id": "a06ab150",
   "metadata": {},
   "outputs": [
    {
     "name": "stdout",
     "output_type": "stream",
     "text": [
      "Package                  Version\n",
      "------------------------ -----------\n",
      "accelerate               1.4.0\n",
      "aiohappyeyeballs         2.4.4\n",
      "aiohttp                  3.11.10\n",
      "aiosignal                1.2.0\n",
      "annotated-types          0.6.0\n",
      "anyio                    4.7.0\n",
      "arrow                    1.3.0\n",
      "asttokens                3.0.0\n",
      "attrs                    24.3.0\n",
      "binaryornot              0.4.4\n",
      "Bottleneck               1.4.2\n",
      "brotlicffi               1.0.9.2\n",
      "certifi                  2025.8.3\n",
      "cffi                     1.17.1\n",
      "chardet                  4.0.0\n",
      "charset-normalizer       3.3.2\n",
      "click                    8.1.8\n",
      "colorama                 0.4.6\n",
      "comm                     0.2.3\n",
      "cookiecutter             2.6.0\n",
      "datasets                 3.3.2\n",
      "debugpy                  1.8.15\n",
      "decorator                5.2.1\n",
      "Deprecated               1.2.13\n",
      "dill                     0.3.8\n",
      "distro                   1.9.0\n",
      "evaluate                 0.4.3\n",
      "exceptiongroup           1.3.0\n",
      "executing                2.2.0\n",
      "filelock                 3.17.0\n",
      "frozenlist               1.5.0\n",
      "fsspec                   2024.12.0\n",
      "gmpy2                    2.2.1\n",
      "greenlet                 3.1.1\n",
      "h11                      0.16.0\n",
      "httpcore                 1.0.9\n",
      "httpx                    0.28.1\n",
      "huggingface_hub          0.31.2\n",
      "idna                     3.7\n",
      "importlib_metadata       8.5.0\n",
      "ipykernel                6.30.1\n",
      "ipython                  9.4.0\n",
      "ipython_pygments_lexers  1.1.1\n",
      "jedi                     0.19.2\n",
      "Jinja2                   3.1.6\n",
      "jiter                    0.6.1\n",
      "jsonpatch                1.33\n",
      "jsonpointer              3.0.0\n",
      "jupyter_client           8.6.3\n",
      "jupyter_core             5.8.1\n",
      "langchain                0.3.25\n",
      "langchain-core           0.3.58\n",
      "langchain-text-splitters 0.3.8\n",
      "langsmith                0.3.39\n",
      "markdown-it-py           2.2.0\n",
      "MarkupSafe               3.0.2\n",
      "matplotlib-inline        0.1.7\n",
      "mdurl                    0.1.0\n",
      "mkl_fft                  1.3.11\n",
      "mkl_random               1.2.8\n",
      "mkl-service              2.4.0\n",
      "mpmath                   1.3.0\n",
      "multidict                6.1.0\n",
      "multiprocess             0.70.15\n",
      "nest_asyncio             1.6.0\n",
      "networkx                 3.4.2\n",
      "numexpr                  2.11.0\n",
      "numpy                    2.3.1\n",
      "openai                   1.77.0\n",
      "opentelemetry-api        1.30.0\n",
      "orjson                   3.10.14\n",
      "packaging                24.2\n",
      "pandas                   2.3.1\n",
      "parso                    0.8.4\n",
      "pickleshare              0.7.5\n",
      "pip                      25.1\n",
      "platformdirs             4.3.8\n",
      "prompt_toolkit           3.0.51\n",
      "propcache                0.3.1\n",
      "psutil                   5.9.0\n",
      "pure_eval                0.2.3\n",
      "pyarrow                  19.0.0\n",
      "pycparser                2.21\n",
      "pydantic                 2.11.7\n",
      "pydantic_core            2.33.2\n",
      "Pygments                 2.19.1\n",
      "PySocks                  1.7.1\n",
      "python-dateutil          2.9.0.post0\n",
      "python-slugify           5.0.2\n",
      "pytz                     2025.2\n",
      "pywin32                  311\n",
      "PyYAML                   6.0.2\n",
      "pyzmq                    27.0.1\n",
      "requests                 2.32.4\n",
      "requests-toolbelt        1.0.0\n",
      "rich                     13.9.4\n",
      "safetensors              0.5.3\n",
      "setuptools               72.1.0\n",
      "six                      1.17.0\n",
      "sniffio                  1.3.0\n",
      "SQLAlchemy               2.0.41\n",
      "stack_data               0.6.3\n",
      "sympy                    1.13.3\n",
      "tenacity                 9.0.0\n",
      "text-unidecode           1.3\n",
      "torch                    2.6.0\n",
      "tornado                  6.5.1\n",
      "tqdm                     4.67.1\n",
      "traitlets                5.14.3\n",
      "typing_extensions        4.12.2\n",
      "typing-inspection        0.4.0\n",
      "tzdata                   2025.2\n",
      "Unidecode                1.3.8\n",
      "urllib3                  2.5.0\n",
      "wcwidth                  0.2.13\n",
      "wheel                    0.45.1\n",
      "win_inet_pton            1.1.0\n",
      "wrapt                    1.17.0\n",
      "xxhash                   3.5.0\n",
      "yarl                     1.18.0\n",
      "zipp                     3.21.0\n",
      "zstandard                0.23.0\n",
      "Note: you may need to restart the kernel to use updated packages.\n"
     ]
    }
   ],
   "source": [
    "pip list"
   ]
  },
  {
   "cell_type": "code",
   "execution_count": 2,
   "id": "1c814d8b",
   "metadata": {},
   "outputs": [
    {
     "name": "stdout",
     "output_type": "stream",
     "text": [
      "\n",
      "# conda environments:\n",
      "#\n",
      "base                   C:\\Users\\Waqas\\anaconda3\n",
      "NLP                  * C:\\Users\\Waqas\\anaconda3\\envs\\NLP\n",
      "yt                     C:\\Users\\Waqas\\anaconda3\\envs\\yt\n",
      "NLP                    c:\\Users\\Waqas\\anaconda3\\envs\\NLP\n",
      "yt                     c:\\Users\\Waqas\\anaconda3\\envs\\yt\n",
      "\n",
      "\n",
      "Note: you may need to restart the kernel to use updated packages.\n"
     ]
    }
   ],
   "source": [
    "conda env list"
   ]
  },
  {
   "cell_type": "code",
   "execution_count": null,
   "id": "0914dcf9",
   "metadata": {},
   "outputs": [],
   "source": []
  }
 ],
 "metadata": {
  "kernelspec": {
   "display_name": "NLP",
   "language": "python",
   "name": "python3"
  },
  "language_info": {
   "codemirror_mode": {
    "name": "ipython",
    "version": 3
   },
   "file_extension": ".py",
   "mimetype": "text/x-python",
   "name": "python",
   "nbconvert_exporter": "python",
   "pygments_lexer": "ipython3",
   "version": "3.13.5"
  }
 },
 "nbformat": 4,
 "nbformat_minor": 5
}
